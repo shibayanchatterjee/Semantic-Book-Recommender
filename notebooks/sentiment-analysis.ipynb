{
 "cells": [
  {
   "cell_type": "code",
   "execution_count": null,
   "metadata": {},
   "outputs": [],
   "source": [
    "import pandas as pd\n",
    "\n",
    "books = pd.read_csv('../datasets/books_cleaned.csv')"
   ]
  },
  {
   "cell_type": "code",
   "execution_count": 4,
   "metadata": {},
   "outputs": [
    {
     "name": "stderr",
     "output_type": "stream",
     "text": [
      "Device set to use mps\n"
     ]
    },
    {
     "data": {
      "text/plain": [
       "[[{'label': 'joy', 'score': 0.9771687984466553},\n",
       "  {'label': 'surprise', 'score': 0.00852868054062128},\n",
       "  {'label': 'neutral', 'score': 0.00576459476724267},\n",
       "  {'label': 'anger', 'score': 0.004419783595949411},\n",
       "  {'label': 'sadness', 'score': 0.002092391485348344},\n",
       "  {'label': 'disgust', 'score': 0.001611992483958602},\n",
       "  {'label': 'fear', 'score': 0.00041385198710486293}]]"
      ]
     },
     "execution_count": 4,
     "metadata": {},
     "output_type": "execute_result"
    }
   ],
   "source": [
    "from transformers import pipeline\n",
    "classifier = pipeline(\"text-classification\", model=\"j-hartmann/emotion-english-distilroberta-base\", top_k=None, device=\"mps\")\n",
    "classifier(\"I love this!\")"
   ]
  },
  {
   "cell_type": "code",
   "execution_count": 5,
   "metadata": {},
   "outputs": [
    {
     "data": {
      "text/plain": [
       "'A NOVEL THAT READERS and critics have been eagerly anticipating for over a decade, Gilead is an astonishingly imagined story of remarkable lives. John Ames is a preacher, the son of a preacher and the grandson (both maternal and paternal) of preachers. It’s 1956 in Gilead, Iowa, towards the end of the Reverend Ames’s life, and he is absorbed in recording his family’s story, a legacy for the young son he will never see grow up. Haunted by his grandfather’s presence, John tells of the rift between his grandfather and his father: the elder, an angry visionary who fought for the abolitionist cause, and his son, an ardent pacifist. He is troubled, too, by his prodigal namesake, Jack (John Ames) Boughton, his best friend’s lost son who returns to Gilead searching for forgiveness and redemption. Told in John Ames’s joyous, rambling voice that finds beauty, humour and truth in the smallest of life’s details, Gilead is a song of celebration and acceptance of the best and the worst the world has to offer. At its heart is a tale of the sacred bonds between fathers and sons, pitch-perfect in style and story, set to dazzle critics and readers alike.'"
      ]
     },
     "execution_count": 5,
     "metadata": {},
     "output_type": "execute_result"
    }
   ],
   "source": [
    "books[\"description\"][0]"
   ]
  },
  {
   "cell_type": "code",
   "execution_count": 6,
   "metadata": {},
   "outputs": [
    {
     "data": {
      "text/plain": [
       "[[{'label': 'fear', 'score': 0.6548417210578918},\n",
       "  {'label': 'neutral', 'score': 0.16985179483890533},\n",
       "  {'label': 'sadness', 'score': 0.11640871316194534},\n",
       "  {'label': 'surprise', 'score': 0.020700624212622643},\n",
       "  {'label': 'disgust', 'score': 0.0191007349640131},\n",
       "  {'label': 'joy', 'score': 0.015161242336034775},\n",
       "  {'label': 'anger', 'score': 0.003935153130441904}]]"
      ]
     },
     "execution_count": 6,
     "metadata": {},
     "output_type": "execute_result"
    }
   ],
   "source": [
    "classifier(books[\"description\"][0])"
   ]
  },
  {
   "cell_type": "code",
   "execution_count": 7,
   "metadata": {},
   "outputs": [
    {
     "data": {
      "text/plain": [
       "[[{'label': 'surprise', 'score': 0.7296021580696106},\n",
       "  {'label': 'neutral', 'score': 0.14038625359535217},\n",
       "  {'label': 'fear', 'score': 0.06816215068101883},\n",
       "  {'label': 'joy', 'score': 0.0479423962533474},\n",
       "  {'label': 'anger', 'score': 0.009156353771686554},\n",
       "  {'label': 'disgust', 'score': 0.0026284793857485056},\n",
       "  {'label': 'sadness', 'score': 0.0021221640054136515}],\n",
       " [{'label': 'neutral', 'score': 0.44937190413475037},\n",
       "  {'label': 'disgust', 'score': 0.2735902965068817},\n",
       "  {'label': 'joy', 'score': 0.1090828999876976},\n",
       "  {'label': 'sadness', 'score': 0.09362740814685822},\n",
       "  {'label': 'anger', 'score': 0.04047819972038269},\n",
       "  {'label': 'surprise', 'score': 0.02697022259235382},\n",
       "  {'label': 'fear', 'score': 0.00687906239181757}],\n",
       " [{'label': 'neutral', 'score': 0.6462160348892212},\n",
       "  {'label': 'sadness', 'score': 0.24273350834846497},\n",
       "  {'label': 'disgust', 'score': 0.043422576040029526},\n",
       "  {'label': 'surprise', 'score': 0.02830047346651554},\n",
       "  {'label': 'joy', 'score': 0.014211434870958328},\n",
       "  {'label': 'fear', 'score': 0.01408408209681511},\n",
       "  {'label': 'anger', 'score': 0.011031867004930973}],\n",
       " [{'label': 'fear', 'score': 0.9281686544418335},\n",
       "  {'label': 'anger', 'score': 0.032190579921007156},\n",
       "  {'label': 'neutral', 'score': 0.012808628380298615},\n",
       "  {'label': 'sadness', 'score': 0.008756840601563454},\n",
       "  {'label': 'surprise', 'score': 0.008597875013947487},\n",
       "  {'label': 'disgust', 'score': 0.00843177828937769},\n",
       "  {'label': 'joy', 'score': 0.0010455782758072019}],\n",
       " [{'label': 'sadness', 'score': 0.9671575427055359},\n",
       "  {'label': 'neutral', 'score': 0.015104164369404316},\n",
       "  {'label': 'disgust', 'score': 0.006480589509010315},\n",
       "  {'label': 'fear', 'score': 0.005393995437771082},\n",
       "  {'label': 'surprise', 'score': 0.0022869419772177935},\n",
       "  {'label': 'anger', 'score': 0.0018428867915645242},\n",
       "  {'label': 'joy', 'score': 0.0017338780453428626}],\n",
       " [{'label': 'joy', 'score': 0.9327981472015381},\n",
       "  {'label': 'disgust', 'score': 0.037716999650001526},\n",
       "  {'label': 'neutral', 'score': 0.015891842544078827},\n",
       "  {'label': 'sadness', 'score': 0.006444488186389208},\n",
       "  {'label': 'anger', 'score': 0.005024961195886135},\n",
       "  {'label': 'surprise', 'score': 0.00158120587002486},\n",
       "  {'label': 'fear', 'score': 0.0005423062248155475}],\n",
       " [{'label': 'joy', 'score': 0.6528695225715637},\n",
       "  {'label': 'neutral', 'score': 0.25427553057670593},\n",
       "  {'label': 'surprise', 'score': 0.06808329373598099},\n",
       "  {'label': 'sadness', 'score': 0.009909017942845821},\n",
       "  {'label': 'disgust', 'score': 0.006512219086289406},\n",
       "  {'label': 'anger', 'score': 0.0048213223926723},\n",
       "  {'label': 'fear', 'score': 0.0035290238447487354}],\n",
       " [{'label': 'neutral', 'score': 0.5494773387908936},\n",
       "  {'label': 'sadness', 'score': 0.11169011145830154},\n",
       "  {'label': 'disgust', 'score': 0.1040065661072731},\n",
       "  {'label': 'surprise', 'score': 0.07876542955636978},\n",
       "  {'label': 'anger', 'score': 0.06413352489471436},\n",
       "  {'label': 'fear', 'score': 0.05136272683739662},\n",
       "  {'label': 'joy', 'score': 0.040564339607954025}]]"
      ]
     },
     "execution_count": 7,
     "metadata": {},
     "output_type": "execute_result"
    }
   ],
   "source": [
    "classifier(books[\"description\"][0].split(\".\"))"
   ]
  },
  {
   "cell_type": "code",
   "execution_count": 8,
   "metadata": {},
   "outputs": [],
   "source": [
    "sentences = books[\"description\"][0].split(\".\")\n",
    "predictions = classifier(sentences)"
   ]
  },
  {
   "cell_type": "code",
   "execution_count": 9,
   "metadata": {},
   "outputs": [
    {
     "data": {
      "text/plain": [
       "[{'label': 'surprise', 'score': 0.7296021580696106},\n",
       " {'label': 'neutral', 'score': 0.14038625359535217},\n",
       " {'label': 'fear', 'score': 0.06816215068101883},\n",
       " {'label': 'joy', 'score': 0.0479423962533474},\n",
       " {'label': 'anger', 'score': 0.009156353771686554},\n",
       " {'label': 'disgust', 'score': 0.0026284793857485056},\n",
       " {'label': 'sadness', 'score': 0.0021221640054136515}]"
      ]
     },
     "execution_count": 9,
     "metadata": {},
     "output_type": "execute_result"
    }
   ],
   "source": [
    "predictions[0]"
   ]
  },
  {
   "cell_type": "code",
   "execution_count": 10,
   "metadata": {},
   "outputs": [
    {
     "data": {
      "text/plain": [
       "[{'label': 'fear', 'score': 0.9281686544418335},\n",
       " {'label': 'anger', 'score': 0.032190579921007156},\n",
       " {'label': 'neutral', 'score': 0.012808628380298615},\n",
       " {'label': 'sadness', 'score': 0.008756840601563454},\n",
       " {'label': 'surprise', 'score': 0.008597875013947487},\n",
       " {'label': 'disgust', 'score': 0.00843177828937769},\n",
       " {'label': 'joy', 'score': 0.0010455782758072019}]"
      ]
     },
     "execution_count": 10,
     "metadata": {},
     "output_type": "execute_result"
    }
   ],
   "source": [
    "predictions[3]"
   ]
  },
  {
   "cell_type": "code",
   "execution_count": 11,
   "metadata": {},
   "outputs": [
    {
     "data": {
      "text/plain": [
       "[[{'label': 'surprise', 'score': 0.7296021580696106},\n",
       "  {'label': 'neutral', 'score': 0.14038625359535217},\n",
       "  {'label': 'fear', 'score': 0.06816215068101883},\n",
       "  {'label': 'joy', 'score': 0.0479423962533474},\n",
       "  {'label': 'anger', 'score': 0.009156353771686554},\n",
       "  {'label': 'disgust', 'score': 0.0026284793857485056},\n",
       "  {'label': 'sadness', 'score': 0.0021221640054136515}],\n",
       " [{'label': 'neutral', 'score': 0.44937190413475037},\n",
       "  {'label': 'disgust', 'score': 0.2735902965068817},\n",
       "  {'label': 'joy', 'score': 0.1090828999876976},\n",
       "  {'label': 'sadness', 'score': 0.09362740814685822},\n",
       "  {'label': 'anger', 'score': 0.04047819972038269},\n",
       "  {'label': 'surprise', 'score': 0.02697022259235382},\n",
       "  {'label': 'fear', 'score': 0.00687906239181757}],\n",
       " [{'label': 'neutral', 'score': 0.6462160348892212},\n",
       "  {'label': 'sadness', 'score': 0.24273350834846497},\n",
       "  {'label': 'disgust', 'score': 0.043422576040029526},\n",
       "  {'label': 'surprise', 'score': 0.02830047346651554},\n",
       "  {'label': 'joy', 'score': 0.014211434870958328},\n",
       "  {'label': 'fear', 'score': 0.01408408209681511},\n",
       "  {'label': 'anger', 'score': 0.011031867004930973}],\n",
       " [{'label': 'fear', 'score': 0.9281686544418335},\n",
       "  {'label': 'anger', 'score': 0.032190579921007156},\n",
       "  {'label': 'neutral', 'score': 0.012808628380298615},\n",
       "  {'label': 'sadness', 'score': 0.008756840601563454},\n",
       "  {'label': 'surprise', 'score': 0.008597875013947487},\n",
       "  {'label': 'disgust', 'score': 0.00843177828937769},\n",
       "  {'label': 'joy', 'score': 0.0010455782758072019}],\n",
       " [{'label': 'sadness', 'score': 0.9671575427055359},\n",
       "  {'label': 'neutral', 'score': 0.015104164369404316},\n",
       "  {'label': 'disgust', 'score': 0.006480589509010315},\n",
       "  {'label': 'fear', 'score': 0.005393995437771082},\n",
       "  {'label': 'surprise', 'score': 0.0022869419772177935},\n",
       "  {'label': 'anger', 'score': 0.0018428867915645242},\n",
       "  {'label': 'joy', 'score': 0.0017338780453428626}],\n",
       " [{'label': 'joy', 'score': 0.9327981472015381},\n",
       "  {'label': 'disgust', 'score': 0.037716999650001526},\n",
       "  {'label': 'neutral', 'score': 0.015891842544078827},\n",
       "  {'label': 'sadness', 'score': 0.006444488186389208},\n",
       "  {'label': 'anger', 'score': 0.005024961195886135},\n",
       "  {'label': 'surprise', 'score': 0.00158120587002486},\n",
       "  {'label': 'fear', 'score': 0.0005423062248155475}],\n",
       " [{'label': 'joy', 'score': 0.6528695225715637},\n",
       "  {'label': 'neutral', 'score': 0.25427553057670593},\n",
       "  {'label': 'surprise', 'score': 0.06808329373598099},\n",
       "  {'label': 'sadness', 'score': 0.009909017942845821},\n",
       "  {'label': 'disgust', 'score': 0.006512219086289406},\n",
       "  {'label': 'anger', 'score': 0.0048213223926723},\n",
       "  {'label': 'fear', 'score': 0.0035290238447487354}],\n",
       " [{'label': 'neutral', 'score': 0.5494773387908936},\n",
       "  {'label': 'sadness', 'score': 0.11169011145830154},\n",
       "  {'label': 'disgust', 'score': 0.1040065661072731},\n",
       "  {'label': 'surprise', 'score': 0.07876542955636978},\n",
       "  {'label': 'anger', 'score': 0.06413352489471436},\n",
       "  {'label': 'fear', 'score': 0.05136272683739662},\n",
       "  {'label': 'joy', 'score': 0.040564339607954025}]]"
      ]
     },
     "execution_count": 11,
     "metadata": {},
     "output_type": "execute_result"
    }
   ],
   "source": [
    "predictions"
   ]
  },
  {
   "cell_type": "code",
   "execution_count": 12,
   "metadata": {},
   "outputs": [
    {
     "data": {
      "text/plain": [
       "[{'label': 'anger', 'score': 0.009156353771686554},\n",
       " {'label': 'disgust', 'score': 0.0026284793857485056},\n",
       " {'label': 'fear', 'score': 0.06816215068101883},\n",
       " {'label': 'joy', 'score': 0.0479423962533474},\n",
       " {'label': 'neutral', 'score': 0.14038625359535217},\n",
       " {'label': 'sadness', 'score': 0.0021221640054136515},\n",
       " {'label': 'surprise', 'score': 0.7296021580696106}]"
      ]
     },
     "execution_count": 12,
     "metadata": {},
     "output_type": "execute_result"
    }
   ],
   "source": [
    "sorted(predictions[0], key=lambda x: x['label'])"
   ]
  },
  {
   "cell_type": "code",
   "execution_count": 17,
   "metadata": {},
   "outputs": [],
   "source": [
    "import numpy as np\n",
    "\n",
    "emotion_labels = ['anger', 'disgust', 'fear', 'joy', 'neutral', 'sadness', 'surprise']\n",
    "isbn=[]\n",
    "emotion_scores= {labels: [] for labels in emotion_labels}\n",
    "\n",
    "def calculate_max_emotion(predictions):\n",
    "    pre_emotion_scores = {label: [] for label in emotion_labels}\n",
    "    for prediction in predictions:\n",
    "        sorted_prediction = sorted(prediction, key=lambda x: x['label'])\n",
    "        for index, label in enumerate(emotion_labels):\n",
    "            pre_emotion_scores[label].append(sorted_prediction[index]['score'])\n",
    "    return {label: np.max(scores) for label, scores in pre_emotion_scores.items()}"
   ]
  },
  {
   "cell_type": "code",
   "execution_count": 18,
   "metadata": {},
   "outputs": [],
   "source": [
    "for i in range(10):\n",
    "    isbn.append(books[\"isbn13\"][i])\n",
    "    sentences = books[\"description\"][i].split(\".\")\n",
    "    predictions = classifier(sentences)\n",
    "    max_emotion = calculate_max_emotion(predictions)\n",
    "    for label in emotion_labels:\n",
    "        emotion_scores[label].append(max_emotion[label])"
   ]
  },
  {
   "cell_type": "code",
   "execution_count": 19,
   "metadata": {},
   "outputs": [
    {
     "data": {
      "text/plain": [
       "{'anger': [0.06413352489471436,\n",
       "  0.6126183867454529,\n",
       "  0.06413352489471436,\n",
       "  0.35148337483406067,\n",
       "  0.08141220360994339,\n",
       "  0.23222479224205017,\n",
       "  0.5381850600242615,\n",
       "  0.06413352489471436,\n",
       "  0.3006710410118103,\n",
       "  0.06413352489471436],\n",
       " 'disgust': [0.2735902965068817,\n",
       "  0.34828585386276245,\n",
       "  0.1040065661072731,\n",
       "  0.15072239935398102,\n",
       "  0.1844952553510666,\n",
       "  0.7271748781204224,\n",
       "  0.15585508942604065,\n",
       "  0.1040065661072731,\n",
       "  0.279480904340744,\n",
       "  0.177926704287529],\n",
       " 'fear': [0.9281686544418335,\n",
       "  0.9425276517868042,\n",
       "  0.9723208546638489,\n",
       "  0.3607071340084076,\n",
       "  0.09504334628582001,\n",
       "  0.05136272683739662,\n",
       "  0.7474281787872314,\n",
       "  0.404495507478714,\n",
       "  0.9155241250991821,\n",
       "  0.05136272683739662],\n",
       " 'joy': [0.9327981472015381,\n",
       "  0.7044215202331543,\n",
       "  0.7672370076179504,\n",
       "  0.25188106298446655,\n",
       "  0.040564339607954025,\n",
       "  0.043375927954912186,\n",
       "  0.8725652694702148,\n",
       "  0.040564339607954025,\n",
       "  0.040564339607954025,\n",
       "  0.040564339607954025],\n",
       " 'neutral': [0.6462160348892212,\n",
       "  0.8879395127296448,\n",
       "  0.5494773387908936,\n",
       "  0.7326865792274475,\n",
       "  0.884389340877533,\n",
       "  0.621392548084259,\n",
       "  0.712194561958313,\n",
       "  0.5494773387908936,\n",
       "  0.840289294719696,\n",
       "  0.8603722453117371],\n",
       " 'sadness': [0.9671575427055359,\n",
       "  0.11169011145830154,\n",
       "  0.11169011145830154,\n",
       "  0.11169011145830154,\n",
       "  0.4758807122707367,\n",
       "  0.11169011145830154,\n",
       "  0.4079986810684204,\n",
       "  0.8202826976776123,\n",
       "  0.35445940494537354,\n",
       "  0.11169011145830154],\n",
       " 'surprise': [0.7296021580696106,\n",
       "  0.25254449248313904,\n",
       "  0.07876542955636978,\n",
       "  0.07876542955636978,\n",
       "  0.07876542955636978,\n",
       "  0.27190276980400085,\n",
       "  0.07876542955636978,\n",
       "  0.23448799550533295,\n",
       "  0.1356150507926941,\n",
       "  0.07876542955636978]}"
      ]
     },
     "execution_count": 19,
     "metadata": {},
     "output_type": "execute_result"
    }
   ],
   "source": [
    "emotion_scores"
   ]
  },
  {
   "cell_type": "code",
   "execution_count": 20,
   "metadata": {},
   "outputs": [
    {
     "name": "stderr",
     "output_type": "stream",
     "text": [
      "100%|██████████| 5197/5197 [05:46<00:00, 15.00it/s]\n"
     ]
    }
   ],
   "source": [
    "from tqdm import tqdm\n",
    "\n",
    "emotion_labels = ['anger', 'disgust', 'fear', 'joy', 'neutral', 'sadness', 'surprise']\n",
    "isbn=[]\n",
    "emotion_scores= {labels: [] for labels in emotion_labels}\n",
    "\n",
    "for i in tqdm(range(len(books))):\n",
    "    isbn.append(books[\"isbn13\"][i])\n",
    "    sentences = books[\"description\"][i].split(\".\")\n",
    "    predictions = classifier(sentences)\n",
    "    max_emotion = calculate_max_emotion(predictions)\n",
    "    for label in emotion_labels:\n",
    "        emotion_scores[label].append(max_emotion[label])"
   ]
  },
  {
   "cell_type": "code",
   "execution_count": 21,
   "metadata": {},
   "outputs": [],
   "source": [
    "emotions_df = pd.DataFrame(emotion_scores)\n",
    "emotions_df[\"isbn13\"] = isbn"
   ]
  },
  {
   "cell_type": "code",
   "execution_count": 24,
   "metadata": {},
   "outputs": [
    {
     "data": {
      "text/html": [
       "<div>\n",
       "<style scoped>\n",
       "    .dataframe tbody tr th:only-of-type {\n",
       "        vertical-align: middle;\n",
       "    }\n",
       "\n",
       "    .dataframe tbody tr th {\n",
       "        vertical-align: top;\n",
       "    }\n",
       "\n",
       "    .dataframe thead th {\n",
       "        text-align: right;\n",
       "    }\n",
       "</style>\n",
       "<table border=\"1\" class=\"dataframe\">\n",
       "  <thead>\n",
       "    <tr style=\"text-align: right;\">\n",
       "      <th></th>\n",
       "      <th>isbn13</th>\n",
       "      <th>isbn10</th>\n",
       "      <th>title</th>\n",
       "      <th>authors</th>\n",
       "      <th>categories</th>\n",
       "      <th>thumbnail</th>\n",
       "      <th>description</th>\n",
       "      <th>published_year</th>\n",
       "      <th>average_rating</th>\n",
       "      <th>num_pages</th>\n",
       "      <th>...</th>\n",
       "      <th>neutral_x</th>\n",
       "      <th>sadness_x</th>\n",
       "      <th>surprise_x</th>\n",
       "      <th>anger_y</th>\n",
       "      <th>disgust_y</th>\n",
       "      <th>fear_y</th>\n",
       "      <th>joy_y</th>\n",
       "      <th>neutral_y</th>\n",
       "      <th>sadness_y</th>\n",
       "      <th>surprise_y</th>\n",
       "    </tr>\n",
       "  </thead>\n",
       "  <tbody>\n",
       "    <tr>\n",
       "      <th>0</th>\n",
       "      <td>9780002005883</td>\n",
       "      <td>0002005883</td>\n",
       "      <td>Gilead</td>\n",
       "      <td>Marilynne Robinson</td>\n",
       "      <td>Fiction</td>\n",
       "      <td>http://books.google.com/books/content?id=KQZCP...</td>\n",
       "      <td>A NOVEL THAT READERS and critics have been eag...</td>\n",
       "      <td>2004.0</td>\n",
       "      <td>3.85</td>\n",
       "      <td>247.0</td>\n",
       "      <td>...</td>\n",
       "      <td>0.646216</td>\n",
       "      <td>0.967158</td>\n",
       "      <td>0.729602</td>\n",
       "      <td>0.064134</td>\n",
       "      <td>0.273590</td>\n",
       "      <td>0.928169</td>\n",
       "      <td>0.932798</td>\n",
       "      <td>0.646216</td>\n",
       "      <td>0.967158</td>\n",
       "      <td>0.729602</td>\n",
       "    </tr>\n",
       "    <tr>\n",
       "      <th>1</th>\n",
       "      <td>9780002261982</td>\n",
       "      <td>0002261987</td>\n",
       "      <td>Spider's Web</td>\n",
       "      <td>Charles Osborne;Agatha Christie</td>\n",
       "      <td>Detective and mystery stories</td>\n",
       "      <td>http://books.google.com/books/content?id=gA5GP...</td>\n",
       "      <td>A new 'Christie for Christmas' -- a full-lengt...</td>\n",
       "      <td>2000.0</td>\n",
       "      <td>3.83</td>\n",
       "      <td>241.0</td>\n",
       "      <td>...</td>\n",
       "      <td>0.887940</td>\n",
       "      <td>0.111690</td>\n",
       "      <td>0.252544</td>\n",
       "      <td>0.612618</td>\n",
       "      <td>0.348286</td>\n",
       "      <td>0.942528</td>\n",
       "      <td>0.704422</td>\n",
       "      <td>0.887940</td>\n",
       "      <td>0.111690</td>\n",
       "      <td>0.252544</td>\n",
       "    </tr>\n",
       "    <tr>\n",
       "      <th>2</th>\n",
       "      <td>9780006178736</td>\n",
       "      <td>0006178731</td>\n",
       "      <td>Rage of angels</td>\n",
       "      <td>Sidney Sheldon</td>\n",
       "      <td>Fiction</td>\n",
       "      <td>http://books.google.com/books/content?id=FKo2T...</td>\n",
       "      <td>A memorable, mesmerizing heroine Jennifer -- b...</td>\n",
       "      <td>1993.0</td>\n",
       "      <td>3.93</td>\n",
       "      <td>512.0</td>\n",
       "      <td>...</td>\n",
       "      <td>0.549477</td>\n",
       "      <td>0.111690</td>\n",
       "      <td>0.078765</td>\n",
       "      <td>0.064134</td>\n",
       "      <td>0.104007</td>\n",
       "      <td>0.972321</td>\n",
       "      <td>0.767237</td>\n",
       "      <td>0.549477</td>\n",
       "      <td>0.111690</td>\n",
       "      <td>0.078765</td>\n",
       "    </tr>\n",
       "    <tr>\n",
       "      <th>3</th>\n",
       "      <td>9780006280897</td>\n",
       "      <td>0006280897</td>\n",
       "      <td>The Four Loves</td>\n",
       "      <td>Clive Staples Lewis</td>\n",
       "      <td>Christian life</td>\n",
       "      <td>http://books.google.com/books/content?id=XhQ5X...</td>\n",
       "      <td>Lewis' work on the nature of love divides love...</td>\n",
       "      <td>2002.0</td>\n",
       "      <td>4.15</td>\n",
       "      <td>170.0</td>\n",
       "      <td>...</td>\n",
       "      <td>0.732687</td>\n",
       "      <td>0.111690</td>\n",
       "      <td>0.078765</td>\n",
       "      <td>0.351483</td>\n",
       "      <td>0.150722</td>\n",
       "      <td>0.360707</td>\n",
       "      <td>0.251881</td>\n",
       "      <td>0.732687</td>\n",
       "      <td>0.111690</td>\n",
       "      <td>0.078765</td>\n",
       "    </tr>\n",
       "    <tr>\n",
       "      <th>4</th>\n",
       "      <td>9780006280934</td>\n",
       "      <td>0006280935</td>\n",
       "      <td>The Problem of Pain</td>\n",
       "      <td>Clive Staples Lewis</td>\n",
       "      <td>Christian life</td>\n",
       "      <td>http://books.google.com/books/content?id=Kk-uV...</td>\n",
       "      <td>\"In The Problem of Pain, C.S. Lewis, one of th...</td>\n",
       "      <td>2002.0</td>\n",
       "      <td>4.09</td>\n",
       "      <td>176.0</td>\n",
       "      <td>...</td>\n",
       "      <td>0.884389</td>\n",
       "      <td>0.475881</td>\n",
       "      <td>0.078765</td>\n",
       "      <td>0.081412</td>\n",
       "      <td>0.184495</td>\n",
       "      <td>0.095043</td>\n",
       "      <td>0.040564</td>\n",
       "      <td>0.884389</td>\n",
       "      <td>0.475881</td>\n",
       "      <td>0.078765</td>\n",
       "    </tr>\n",
       "  </tbody>\n",
       "</table>\n",
       "<p>5 rows × 28 columns</p>\n",
       "</div>"
      ],
      "text/plain": [
       "          isbn13      isbn10                title  \\\n",
       "0  9780002005883  0002005883               Gilead   \n",
       "1  9780002261982  0002261987         Spider's Web   \n",
       "2  9780006178736  0006178731       Rage of angels   \n",
       "3  9780006280897  0006280897       The Four Loves   \n",
       "4  9780006280934  0006280935  The Problem of Pain   \n",
       "\n",
       "                           authors                     categories  \\\n",
       "0               Marilynne Robinson                        Fiction   \n",
       "1  Charles Osborne;Agatha Christie  Detective and mystery stories   \n",
       "2                   Sidney Sheldon                        Fiction   \n",
       "3              Clive Staples Lewis                 Christian life   \n",
       "4              Clive Staples Lewis                 Christian life   \n",
       "\n",
       "                                           thumbnail  \\\n",
       "0  http://books.google.com/books/content?id=KQZCP...   \n",
       "1  http://books.google.com/books/content?id=gA5GP...   \n",
       "2  http://books.google.com/books/content?id=FKo2T...   \n",
       "3  http://books.google.com/books/content?id=XhQ5X...   \n",
       "4  http://books.google.com/books/content?id=Kk-uV...   \n",
       "\n",
       "                                         description  published_year  \\\n",
       "0  A NOVEL THAT READERS and critics have been eag...          2004.0   \n",
       "1  A new 'Christie for Christmas' -- a full-lengt...          2000.0   \n",
       "2  A memorable, mesmerizing heroine Jennifer -- b...          1993.0   \n",
       "3  Lewis' work on the nature of love divides love...          2002.0   \n",
       "4  \"In The Problem of Pain, C.S. Lewis, one of th...          2002.0   \n",
       "\n",
       "   average_rating  num_pages  ...  neutral_x sadness_x surprise_x   anger_y  \\\n",
       "0            3.85      247.0  ...   0.646216  0.967158   0.729602  0.064134   \n",
       "1            3.83      241.0  ...   0.887940  0.111690   0.252544  0.612618   \n",
       "2            3.93      512.0  ...   0.549477  0.111690   0.078765  0.064134   \n",
       "3            4.15      170.0  ...   0.732687  0.111690   0.078765  0.351483   \n",
       "4            4.09      176.0  ...   0.884389  0.475881   0.078765  0.081412   \n",
       "\n",
       "   disgust_y    fear_y     joy_y  neutral_y  sadness_y  surprise_y  \n",
       "0   0.273590  0.928169  0.932798   0.646216   0.967158    0.729602  \n",
       "1   0.348286  0.942528  0.704422   0.887940   0.111690    0.252544  \n",
       "2   0.104007  0.972321  0.767237   0.549477   0.111690    0.078765  \n",
       "3   0.150722  0.360707  0.251881   0.732687   0.111690    0.078765  \n",
       "4   0.184495  0.095043  0.040564   0.884389   0.475881    0.078765  \n",
       "\n",
       "[5 rows x 28 columns]"
      ]
     },
     "execution_count": 24,
     "metadata": {},
     "output_type": "execute_result"
    }
   ],
   "source": [
    "books = pd.merge(books, emotions_df, on=\"isbn13\")\n",
    "books.head(5)"
   ]
  },
  {
   "cell_type": "code",
   "execution_count": 25,
   "metadata": {},
   "outputs": [],
   "source": [
    "books.to_csv(\"books_with_emotions.csv\", index=False)"
   ]
  },
  {
   "cell_type": "code",
   "execution_count": null,
   "metadata": {},
   "outputs": [],
   "source": []
  }
 ],
 "metadata": {
  "kernelspec": {
   "display_name": ".venv",
   "language": "python",
   "name": "python3"
  },
  "language_info": {
   "codemirror_mode": {
    "name": "ipython",
    "version": 3
   },
   "file_extension": ".py",
   "mimetype": "text/x-python",
   "name": "python",
   "nbconvert_exporter": "python",
   "pygments_lexer": "ipython3",
   "version": "3.13.2"
  }
 },
 "nbformat": 4,
 "nbformat_minor": 2
}
